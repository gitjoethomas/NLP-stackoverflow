{
 "cells": [
  {
   "cell_type": "code",
   "execution_count": 1,
   "metadata": {},
   "outputs": [],
   "source": [
    "import pandas as pd\n",
    "pd.set_option('display.max_colwidth', -1)\n",
    "\n",
    "import nltk\n",
    "import wordcloud\n",
    "from bs4 import BeautifulSoup"
   ]
  },
  {
   "cell_type": "code",
   "execution_count": 2,
   "metadata": {},
   "outputs": [],
   "source": [
    "answers = pd.read_csv('datafiles/Answers.csv', encoding = 'iso-8859-1')\n",
    "answers.columns = [col.lower() for col in answers.columns]"
   ]
  },
  {
   "cell_type": "code",
   "execution_count": 3,
   "metadata": {
    "scrolled": true
   },
   "outputs": [
    {
     "data": {
      "text/html": [
       "<div>\n",
       "<style scoped>\n",
       "    .dataframe tbody tr th:only-of-type {\n",
       "        vertical-align: middle;\n",
       "    }\n",
       "\n",
       "    .dataframe tbody tr th {\n",
       "        vertical-align: top;\n",
       "    }\n",
       "\n",
       "    .dataframe thead th {\n",
       "        text-align: right;\n",
       "    }\n",
       "</style>\n",
       "<table border=\"1\" class=\"dataframe\">\n",
       "  <thead>\n",
       "    <tr style=\"text-align: right;\">\n",
       "      <th></th>\n",
       "      <th>id</th>\n",
       "      <th>owneruserid</th>\n",
       "      <th>creationdate</th>\n",
       "      <th>parentid</th>\n",
       "      <th>score</th>\n",
       "      <th>body</th>\n",
       "    </tr>\n",
       "  </thead>\n",
       "  <tbody>\n",
       "    <tr>\n",
       "      <td>0</td>\n",
       "      <td>497</td>\n",
       "      <td>50.0</td>\n",
       "      <td>2008-08-02T16:56:53Z</td>\n",
       "      <td>469</td>\n",
       "      <td>4</td>\n",
       "      <td>&lt;p&gt;open up a terminal (Applications-&amp;gt;Utilities-&amp;gt;Terminal) and type this in:&lt;/p&gt;\\r\\n\\r\\n&lt;pre&gt;&lt;code&gt;locate InsertFontHere&lt;br&gt;&lt;/code&gt;&lt;/pre&gt;\\r\\n\\r\\n&lt;p&gt;This will spit out every file that has the name you want.&lt;/p&gt;\\r\\n\\r\\n&lt;p&gt;Warning: there may be alot to wade through.&lt;/p&gt;</td>\n",
       "    </tr>\n",
       "    <tr>\n",
       "      <td>1</td>\n",
       "      <td>518</td>\n",
       "      <td>153.0</td>\n",
       "      <td>2008-08-02T17:42:28Z</td>\n",
       "      <td>469</td>\n",
       "      <td>2</td>\n",
       "      <td>&lt;p&gt;I haven't been able to find anything that does this directly.  I think you'll have to iterate through the various font folders on the system: &lt;code&gt;/System/Library/Fonts&lt;/code&gt;, &lt;code&gt;/Library/Fonts&lt;/code&gt;, and there can probably be a user-level directory as well &lt;code&gt;~/Library/Fonts&lt;/code&gt;.&lt;/p&gt;\\n</td>\n",
       "    </tr>\n",
       "    <tr>\n",
       "      <td>2</td>\n",
       "      <td>536</td>\n",
       "      <td>161.0</td>\n",
       "      <td>2008-08-02T18:49:07Z</td>\n",
       "      <td>502</td>\n",
       "      <td>9</td>\n",
       "      <td>&lt;p&gt;You can use ImageMagick's convert utility for this, see some examples in &lt;a href=\"https://web.archive.org/web/20120413111338/http://studio.imagemagick.org/pipermail/magick-users/2002-May/002636.html\" rel=\"nofollow\"&gt;http://studio.imagemagick.org/pipermail/magick-users/2002-May/002636.html&lt;/a&gt;\\n:&lt;/p&gt;\\n\\n&lt;blockquote&gt;\\n&lt;pre&gt;&lt;code&gt;Convert taxes.pdf taxes.jpg \\n&lt;/code&gt;&lt;/pre&gt;\\n  \\n  &lt;p&gt;Will convert a two page PDF file into [2] jpeg files: taxes.jpg.0,\\n  taxes.jpg.1&lt;/p&gt;\\n  \\n  &lt;p&gt;I can also convert these JPEGS to a thumbnail as follows:&lt;/p&gt;\\n\\n&lt;pre&gt;&lt;code&gt;convert -size 120x120 taxes.jpg.0 -geometry 120x120 +profile '*' thumbnail.jpg\\n&lt;/code&gt;&lt;/pre&gt;\\n  \\n  &lt;p&gt;I can even convert the PDF directly to a jpeg thumbnail as follows:&lt;/p&gt;\\n\\n&lt;pre&gt;&lt;code&gt;convert -size 120x120 taxes.pdf -geometry 120x120 +profile '*' thumbnail.jpg\\n&lt;/code&gt;&lt;/pre&gt;\\n  \\n  &lt;p&gt;This will result in a thumbnail.jpg.0 and thumbnail.jpg.1 for the two\\n  pages.&lt;/p&gt;\\n&lt;/blockquote&gt;\\n</td>\n",
       "    </tr>\n",
       "  </tbody>\n",
       "</table>\n",
       "</div>"
      ],
      "text/plain": [
       "    id  owneruserid          creationdate  parentid  score  \\\n",
       "0  497  50.0         2008-08-02T16:56:53Z  469       4       \n",
       "1  518  153.0        2008-08-02T17:42:28Z  469       2       \n",
       "2  536  161.0        2008-08-02T18:49:07Z  502       9       \n",
       "\n",
       "                                                                                                                                                                                                                                                                                                                                                                                                                                                                                                                                                                                                                                                                                                                                                                                                                                                                                                                                                                                    body  \n",
       "0  <p>open up a terminal (Applications-&gt;Utilities-&gt;Terminal) and type this in:</p>\\r\\n\\r\\n<pre><code>locate InsertFontHere<br></code></pre>\\r\\n\\r\\n<p>This will spit out every file that has the name you want.</p>\\r\\n\\r\\n<p>Warning: there may be alot to wade through.</p>                                                                                                                                                                                                                                                                                                                                                                                                                                                                                                                                                                                                                                                                                                       \n",
       "1  <p>I haven't been able to find anything that does this directly.  I think you'll have to iterate through the various font folders on the system: <code>/System/Library/Fonts</code>, <code>/Library/Fonts</code>, and there can probably be a user-level directory as well <code>~/Library/Fonts</code>.</p>\\n                                                                                                                                                                                                                                                                                                                                                                                                                                                                                                                                                                                                                                                                         \n",
       "2  <p>You can use ImageMagick's convert utility for this, see some examples in <a href=\"https://web.archive.org/web/20120413111338/http://studio.imagemagick.org/pipermail/magick-users/2002-May/002636.html\" rel=\"nofollow\">http://studio.imagemagick.org/pipermail/magick-users/2002-May/002636.html</a>\\n:</p>\\n\\n<blockquote>\\n<pre><code>Convert taxes.pdf taxes.jpg \\n</code></pre>\\n  \\n  <p>Will convert a two page PDF file into [2] jpeg files: taxes.jpg.0,\\n  taxes.jpg.1</p>\\n  \\n  <p>I can also convert these JPEGS to a thumbnail as follows:</p>\\n\\n<pre><code>convert -size 120x120 taxes.jpg.0 -geometry 120x120 +profile '*' thumbnail.jpg\\n</code></pre>\\n  \\n  <p>I can even convert the PDF directly to a jpeg thumbnail as follows:</p>\\n\\n<pre><code>convert -size 120x120 taxes.pdf -geometry 120x120 +profile '*' thumbnail.jpg\\n</code></pre>\\n  \\n  <p>This will result in a thumbnail.jpg.0 and thumbnail.jpg.1 for the two\\n  pages.</p>\\n</blockquote>\\n  "
      ]
     },
     "execution_count": 3,
     "metadata": {},
     "output_type": "execute_result"
    }
   ],
   "source": [
    "answers.head(3)"
   ]
  },
  {
   "cell_type": "code",
   "execution_count": 4,
   "metadata": {},
   "outputs": [
    {
     "data": {
      "text/plain": [
       "(987122, 6)"
      ]
     },
     "execution_count": 4,
     "metadata": {},
     "output_type": "execute_result"
    }
   ],
   "source": [
    "answers.shape"
   ]
  },
  {
   "cell_type": "code",
   "execution_count": 5,
   "metadata": {},
   "outputs": [],
   "source": [
    "real_words = set(nltk.corpus.words.words())"
   ]
  },
  {
   "cell_type": "code",
   "execution_count": 39,
   "metadata": {},
   "outputs": [],
   "source": [
    "def cleaner(cell):\n",
    "    \"\"\"takes out html tags and NLTK stopwords from a block of text. call with .apply()\"\"\"\n",
    "    \n",
    "    clean = BeautifulSoup(cell, \"html5\").get_text() # BeautifulSoup will parse out html tags\n",
    "    no_delimiters = clean.replace(\"\\n\", \"\")\n",
    "    \n",
    "    # drop all the words which are english stopwords.\n",
    "    no_stopwords = \"\".join(w+\" \" for w in nltk.word_tokenize(no_delimiters) \n",
    "                           if not w.lower() in nltk.corpus.stopwords.words('english'))\n",
    "        \n",
    "    return no_stopwords"
   ]
  },
  {
   "cell_type": "code",
   "execution_count": 45,
   "metadata": {},
   "outputs": [],
   "source": [
    "test = [result for result in answers['body'].apply(cleaner)]"
   ]
  }
 ],
 "metadata": {
  "kernelspec": {
   "display_name": "Python 3",
   "language": "python",
   "name": "python3"
  },
  "language_info": {
   "codemirror_mode": {
    "name": "ipython",
    "version": 3
   },
   "file_extension": ".py",
   "mimetype": "text/x-python",
   "name": "python",
   "nbconvert_exporter": "python",
   "pygments_lexer": "ipython3",
   "version": "3.7.1"
  }
 },
 "nbformat": 4,
 "nbformat_minor": 2
}

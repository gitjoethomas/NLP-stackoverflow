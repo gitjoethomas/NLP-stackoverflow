{
 "cells": [
  {
   "cell_type": "code",
   "execution_count": 1,
   "metadata": {},
   "outputs": [],
   "source": [
    "import pandas as pd\n",
    "pd.set_option('display.max_colwidth', -1)\n",
    "\n",
    "import nltk\n",
    "import wordcloud\n",
    "\n",
    "import functions as f # bespoke functions"
   ]
  },
  {
   "cell_type": "code",
   "execution_count": 2,
   "metadata": {},
   "outputs": [],
   "source": [
    "questions = pd.read_csv('datafiles/questions.csv', encoding = 'iso-8859-1', index_col = 'Id')\n",
    "questions.columns = [col.lower() for col in questions.columns]\n",
    "\n",
    "answers = pd.read_csv('datafiles/answers.csv', encoding = 'iso-8859-1', index_col = 'Id')\n",
    "answers.columns = [col.lower() for col in answers.columns]"
   ]
  },
  {
   "cell_type": "code",
   "execution_count": 3,
   "metadata": {
    "scrolled": true
   },
   "outputs": [
    {
     "data": {
      "text/html": [
       "<div>\n",
       "<style scoped>\n",
       "    .dataframe tbody tr th:only-of-type {\n",
       "        vertical-align: middle;\n",
       "    }\n",
       "\n",
       "    .dataframe tbody tr th {\n",
       "        vertical-align: top;\n",
       "    }\n",
       "\n",
       "    .dataframe thead th {\n",
       "        text-align: right;\n",
       "    }\n",
       "</style>\n",
       "<table border=\"1\" class=\"dataframe\">\n",
       "  <thead>\n",
       "    <tr style=\"text-align: right;\">\n",
       "      <th></th>\n",
       "      <th>owneruserid</th>\n",
       "      <th>creationdate</th>\n",
       "      <th>parentid</th>\n",
       "      <th>score</th>\n",
       "      <th>body</th>\n",
       "    </tr>\n",
       "    <tr>\n",
       "      <th>Id</th>\n",
       "      <th></th>\n",
       "      <th></th>\n",
       "      <th></th>\n",
       "      <th></th>\n",
       "      <th></th>\n",
       "    </tr>\n",
       "  </thead>\n",
       "  <tbody>\n",
       "    <tr>\n",
       "      <td>497</td>\n",
       "      <td>50.0</td>\n",
       "      <td>2008-08-02T16:56:53Z</td>\n",
       "      <td>469</td>\n",
       "      <td>4</td>\n",
       "      <td>&lt;p&gt;open up a terminal (Applications-&amp;gt;Utilities-&amp;gt;Terminal) and type this in:&lt;/p&gt;\\r\\n\\r\\n&lt;pre&gt;&lt;code&gt;locate InsertFontHere&lt;br&gt;&lt;/code&gt;&lt;/pre&gt;\\r\\n\\r\\n&lt;p&gt;This will spit out every file that has the name you want.&lt;/p&gt;\\r\\n\\r\\n&lt;p&gt;Warning: there may be alot to wade through.&lt;/p&gt;</td>\n",
       "    </tr>\n",
       "    <tr>\n",
       "      <td>518</td>\n",
       "      <td>153.0</td>\n",
       "      <td>2008-08-02T17:42:28Z</td>\n",
       "      <td>469</td>\n",
       "      <td>2</td>\n",
       "      <td>&lt;p&gt;I haven't been able to find anything that does this directly.  I think you'll have to iterate through the various font folders on the system: &lt;code&gt;/System/Library/Fonts&lt;/code&gt;, &lt;code&gt;/Library/Fonts&lt;/code&gt;, and there can probably be a user-level directory as well &lt;code&gt;~/Library/Fonts&lt;/code&gt;.&lt;/p&gt;\\n</td>\n",
       "    </tr>\n",
       "  </tbody>\n",
       "</table>\n",
       "</div>"
      ],
      "text/plain": [
       "     owneruserid          creationdate  parentid  score  \\\n",
       "Id                                                        \n",
       "497  50.0         2008-08-02T16:56:53Z  469       4       \n",
       "518  153.0        2008-08-02T17:42:28Z  469       2       \n",
       "\n",
       "                                                                                                                                                                                                                                                                                                               body  \n",
       "Id                                                                                                                                                                                                                                                                                                                   \n",
       "497  <p>open up a terminal (Applications-&gt;Utilities-&gt;Terminal) and type this in:</p>\\r\\n\\r\\n<pre><code>locate InsertFontHere<br></code></pre>\\r\\n\\r\\n<p>This will spit out every file that has the name you want.</p>\\r\\n\\r\\n<p>Warning: there may be alot to wade through.</p>                                \n",
       "518  <p>I haven't been able to find anything that does this directly.  I think you'll have to iterate through the various font folders on the system: <code>/System/Library/Fonts</code>, <code>/Library/Fonts</code>, and there can probably be a user-level directory as well <code>~/Library/Fonts</code>.</p>\\n  "
      ]
     },
     "execution_count": 3,
     "metadata": {},
     "output_type": "execute_result"
    }
   ],
   "source": [
    "answers.head(2)"
   ]
  },
  {
   "cell_type": "code",
   "execution_count": 4,
   "metadata": {},
   "outputs": [
    {
     "data": {
      "text/plain": [
       "(987122, 5)"
      ]
     },
     "execution_count": 4,
     "metadata": {},
     "output_type": "execute_result"
    }
   ],
   "source": [
    "answers.shape"
   ]
  },
  {
   "cell_type": "code",
   "execution_count": 5,
   "metadata": {},
   "outputs": [],
   "source": [
    "# REDUCE SIZE\n",
    "counts = f.find_number_answers(answers) # how many answers did each question get?\n",
    "\n",
    "restricted = counts[counts['number_answers'] > 1] # which questions only evoked one answer?\n",
    "answers = answers[answers['parentid'].isin(restricted.index)] # delete those answers\n",
    "questions = questions[questions.index.isin(restricted.index)] # delete those questions"
   ]
  },
  {
   "cell_type": "code",
   "execution_count": 6,
   "metadata": {},
   "outputs": [],
   "source": [
    "real_words = set(nltk.corpus.words.words())"
   ]
  },
  {
   "cell_type": "code",
   "execution_count": 7,
   "metadata": {},
   "outputs": [],
   "source": [
    "# REMOVE HTML\n",
    "no_html = [result for result in answers['body'].apply(f.remove_html)]\n",
    "answers['no_html'] = no_html"
   ]
  },
  {
   "cell_type": "code",
   "execution_count": 9,
   "metadata": {},
   "outputs": [],
   "source": [
    "# REMOVE STOPWORDS\n",
    "no_stopwords = [result for result in answers['no_html'].apply(f.remove_stopwords)]"
   ]
  },
  {
   "cell_type": "code",
   "execution_count": null,
   "metadata": {},
   "outputs": [],
   "source": [
    "answers['no_stopwords'] = no_stopwords\n",
    "answers = answers.drop('no_html', axis = 1)\n",
    "answers.to_csv('datafiles/no_stopwords.csv')"
   ]
  },
  {
   "cell_type": "code",
   "execution_count": 11,
   "metadata": {},
   "outputs": [],
   "source": [
    "# WORDCLOUD\n",
    "cloud = wordcloud.WordCloud()"
   ]
  },
  {
   "cell_type": "code",
   "execution_count": 26,
   "metadata": {},
   "outputs": [],
   "source": [
    "textlist = [answer for answer in answers['no_html']]\n",
    "text = \"\".join(str(answer)+\" \" for answer in textlist)"
   ]
  },
  {
   "cell_type": "code",
   "execution_count": 10,
   "metadata": {},
   "outputs": [],
   "source": [
    "cloud.generate_from_text(text)"
   ]
  }
 ],
 "metadata": {
  "kernelspec": {
   "display_name": "Python 3",
   "language": "python",
   "name": "python3"
  },
  "language_info": {
   "codemirror_mode": {
    "name": "ipython",
    "version": 3
   },
   "file_extension": ".py",
   "mimetype": "text/x-python",
   "name": "python",
   "nbconvert_exporter": "python",
   "pygments_lexer": "ipython3",
   "version": "3.7.1"
  }
 },
 "nbformat": 4,
 "nbformat_minor": 2
}
